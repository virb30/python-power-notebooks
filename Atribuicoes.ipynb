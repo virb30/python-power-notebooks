{
 "cells": [
  {
   "cell_type": "markdown",
   "metadata": {},
   "source": [
    "## Atribuições no Python\n",
    "\n",
    "O python suporta múltiplas atribuições numa mesma linha\n",
    "\n",
    "Utilizar o `*_` irá agrupar todos os elementos intermediários na variável `_`, extraindo, portanto apenas o dado que interessa \n"
   ]
  },
  {
   "cell_type": "code",
   "execution_count": 1,
   "metadata": {},
   "outputs": [],
   "source": [
    "row = 'Vinicius', 'Bauru', 36.8, 89.6"
   ]
  },
  {
   "cell_type": "code",
   "execution_count": 22,
   "metadata": {},
   "outputs": [],
   "source": [
    "def f(t):\n",
    "    # nome, cidade, lat, long = t[0], t[1], t[2], t[3]\n",
    "    nome, cidade, lat, long = t\n",
    "    print(nome, cidade, lat, long)"
   ]
  },
  {
   "cell_type": "code",
   "execution_count": 36,
   "metadata": {},
   "outputs": [],
   "source": [
    "def f(t):\n",
    "    #nome, cidade = t[0], t[1]\n",
    "    #nome, cidade = t[:2]\n",
    "    #nome, _, _, long = t\n",
    "    nome, *_, long = t\n",
    "    print(nome, long, _)"
   ]
  },
  {
   "cell_type": "code",
   "execution_count": 37,
   "metadata": {},
   "outputs": [
    {
     "name": "stdout",
     "output_type": "stream",
     "text": [
      "Vinicius 89.6 ['Bauru', 36.8]\n"
     ]
    }
   ],
   "source": [
    "if __name__ == '__main__':\n",
    "    f(row)"
   ]
  },
  {
   "cell_type": "code",
   "execution_count": 38,
   "metadata": {},
   "outputs": [],
   "source": [
    "table = (('Vinícius', 'Bauru', 36.8, 89.6),\n",
    "        ('Henrique', 'Niterói', 22.9, 43.1))"
   ]
  },
  {
   "cell_type": "code",
   "execution_count": 40,
   "metadata": {},
   "outputs": [
    {
     "name": "stdout",
     "output_type": "stream",
     "text": [
      "Vinícius Bauru 36.8 89.6\n",
      "Henrique Niterói 22.9 43.1\n"
     ]
    }
   ],
   "source": [
    "for nome, cidade, lat, long in table:\n",
    "    print(nome, cidade, lat, long)    "
   ]
  }
 ],
 "metadata": {
  "kernelspec": {
   "display_name": "Python 3",
   "language": "python",
   "name": "python3"
  },
  "language_info": {
   "codemirror_mode": {
    "name": "ipython",
    "version": 3
   },
   "file_extension": ".py",
   "mimetype": "text/x-python",
   "name": "python",
   "nbconvert_exporter": "python",
   "pygments_lexer": "ipython3",
   "version": "3.9.0"
  }
 },
 "nbformat": 4,
 "nbformat_minor": 4
}
